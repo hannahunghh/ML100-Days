{
 "cells": [
  {
   "cell_type": "code",
   "execution_count": 11,
   "metadata": {
    "colab": {},
    "colab_type": "code",
    "id": "lh9gyloHVblR"
   },
   "outputs": [],
   "source": [
    "import os\n",
    "import numpy as np\n",
    "import pandas as pd"
   ]
  },
  {
   "cell_type": "code",
   "execution_count": 28,
   "metadata": {
    "colab": {},
    "colab_type": "code",
    "id": "z4iLB9cKVblV"
   },
   "outputs": [],
   "source": [
    "# 設定 data_path, 並讀取 app_train\n",
    "dir_data = './data/'\n",
    "f_app_train = os.path.join(dir_data, 'application_train.csv')\n",
    "app_train = pd.read_csv(f_app_train)"
   ]
  },
  {
   "cell_type": "markdown",
   "metadata": {
    "colab": {},
    "colab_type": "code",
    "collapsed": true,
    "id": "d5IeEcPVVblq"
   },
   "source": [
    "## 作業\n",
    "將下列部分資料片段 sub_train 使用 One Hot encoding, 並觀察轉換前後的欄位數量 (使用 shape) 與欄位名稱 (使用 head) 變化"
   ]
  },
  {
   "cell_type": "code",
   "execution_count": 34,
   "metadata": {},
   "outputs": [
    {
     "name": "stdout",
     "output_type": "stream",
     "text": [
      "(307511, 1)\n"
     ]
    },
    {
     "data": {
      "text/html": [
       "<div>\n",
       "<style scoped>\n",
       "    .dataframe tbody tr th:only-of-type {\n",
       "        vertical-align: middle;\n",
       "    }\n",
       "\n",
       "    .dataframe tbody tr th {\n",
       "        vertical-align: top;\n",
       "    }\n",
       "\n",
       "    .dataframe thead th {\n",
       "        text-align: right;\n",
       "    }\n",
       "</style>\n",
       "<table border=\"1\" class=\"dataframe\">\n",
       "  <thead>\n",
       "    <tr style=\"text-align: right;\">\n",
       "      <th></th>\n",
       "      <th>WEEKDAY_APPR_PROCESS_START</th>\n",
       "    </tr>\n",
       "  </thead>\n",
       "  <tbody>\n",
       "    <tr>\n",
       "      <th>0</th>\n",
       "      <td>WEDNESDAY</td>\n",
       "    </tr>\n",
       "    <tr>\n",
       "      <th>1</th>\n",
       "      <td>MONDAY</td>\n",
       "    </tr>\n",
       "    <tr>\n",
       "      <th>2</th>\n",
       "      <td>MONDAY</td>\n",
       "    </tr>\n",
       "    <tr>\n",
       "      <th>3</th>\n",
       "      <td>WEDNESDAY</td>\n",
       "    </tr>\n",
       "    <tr>\n",
       "      <th>4</th>\n",
       "      <td>THURSDAY</td>\n",
       "    </tr>\n",
       "  </tbody>\n",
       "</table>\n",
       "</div>"
      ],
      "text/plain": [
       "  WEEKDAY_APPR_PROCESS_START\n",
       "0                  WEDNESDAY\n",
       "1                     MONDAY\n",
       "2                     MONDAY\n",
       "3                  WEDNESDAY\n",
       "4                   THURSDAY"
      ]
     },
     "execution_count": 34,
     "metadata": {},
     "output_type": "execute_result"
    }
   ],
   "source": [
    "sub_train = pd.DataFrame(app_train['WEEKDAY_APPR_PROCESS_START'])\n",
    "print(sub_train.shape)\n",
    "sub_train.head()\n",
    "#sub_train.columns"
   ]
  },
  {
   "cell_type": "code",
   "execution_count": 33,
   "metadata": {},
   "outputs": [
    {
     "name": "stdout",
     "output_type": "stream",
     "text": [
      "        FRIDAY  MONDAY  SATURDAY  SUNDAY  THURSDAY  TUESDAY  WEDNESDAY\n",
      "0            0       0         0       0         0        0          1\n",
      "1            0       1         0       0         0        0          0\n",
      "2            0       1         0       0         0        0          0\n",
      "3            0       0         0       0         0        0          1\n",
      "4            0       0         0       0         1        0          0\n",
      "5            0       0         0       0         0        0          1\n",
      "6            0       0         0       1         0        0          0\n",
      "7            0       1         0       0         0        0          0\n",
      "8            0       0         0       0         0        0          1\n",
      "9            0       0         0       0         1        0          0\n",
      "10           0       0         1       0         0        0          0\n",
      "11           1       0         0       0         0        0          0\n",
      "12           1       0         0       0         0        0          0\n",
      "13           0       0         0       0         1        0          0\n",
      "14           0       1         0       0         0        0          0\n",
      "15           0       0         1       0         0        0          0\n",
      "16           0       0         0       0         1        0          0\n",
      "17           0       1         0       0         0        0          0\n",
      "18           1       0         0       0         0        0          0\n",
      "19           0       1         0       0         0        0          0\n",
      "20           1       0         0       0         0        0          0\n",
      "21           0       1         0       0         0        0          0\n",
      "22           0       0         0       0         1        0          0\n",
      "23           1       0         0       0         0        0          0\n",
      "24           0       0         0       0         1        0          0\n",
      "25           0       0         1       0         0        0          0\n",
      "26           0       1         0       0         0        0          0\n",
      "27           0       0         1       0         0        0          0\n",
      "28           0       0         0       0         0        0          1\n",
      "29           0       0         0       0         0        1          0\n",
      "...        ...     ...       ...     ...       ...      ...        ...\n",
      "307481       1       0         0       0         0        0          0\n",
      "307482       0       0         0       0         1        0          0\n",
      "307483       0       1         0       0         0        0          0\n",
      "307484       0       1         0       0         0        0          0\n",
      "307485       0       0         1       0         0        0          0\n",
      "307486       0       0         1       0         0        0          0\n",
      "307487       0       0         0       0         0        0          1\n",
      "307488       0       0         0       0         0        0          1\n",
      "307489       1       0         0       0         0        0          0\n",
      "307490       0       0         1       0         0        0          0\n",
      "307491       0       0         1       0         0        0          0\n",
      "307492       1       0         0       0         0        0          0\n",
      "307493       0       1         0       0         0        0          0\n",
      "307494       0       1         0       0         0        0          0\n",
      "307495       0       0         0       0         0        0          1\n",
      "307496       0       0         0       0         1        0          0\n",
      "307497       0       0         0       0         1        0          0\n",
      "307498       0       1         0       0         0        0          0\n",
      "307499       0       0         0       0         0        1          0\n",
      "307500       1       0         0       0         0        0          0\n",
      "307501       0       0         0       0         0        0          1\n",
      "307502       0       1         0       0         0        0          0\n",
      "307503       0       0         1       0         0        0          0\n",
      "307504       0       0         0       0         0        0          1\n",
      "307505       0       1         0       0         0        0          0\n",
      "307506       0       0         0       0         1        0          0\n",
      "307507       0       1         0       0         0        0          0\n",
      "307508       0       0         0       0         1        0          0\n",
      "307509       0       0         0       0         0        0          1\n",
      "307510       0       0         0       0         1        0          0\n",
      "\n",
      "[307511 rows x 7 columns]\n"
     ]
    }
   ],
   "source": [
    "\"\"\"\n",
    "Your Code Here\n",
    "\"\"\"\n",
    "sub_train = pd.get_dummies(sub_train['WEEKDAY_APPR_PROCESS_START'])\n",
    "print (sub_train)\n"
   ]
  },
  {
   "cell_type": "code",
   "execution_count": null,
   "metadata": {},
   "outputs": [],
   "source": []
  }
 ],
 "metadata": {
  "colab": {
   "name": "Day_004_column_data_type.ipynb",
   "provenance": [],
   "version": "0.3.2"
  },
  "kernelspec": {
   "display_name": "Python 3",
   "language": "python",
   "name": "python3"
  },
  "language_info": {
   "codemirror_mode": {
    "name": "ipython",
    "version": 3
   },
   "file_extension": ".py",
   "mimetype": "text/x-python",
   "name": "python",
   "nbconvert_exporter": "python",
   "pygments_lexer": "ipython3",
   "version": "3.7.1"
  }
 },
 "nbformat": 4,
 "nbformat_minor": 1
}
